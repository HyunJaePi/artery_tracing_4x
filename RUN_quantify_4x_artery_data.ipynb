{
 "cells": [
  {
   "cell_type": "markdown",
   "id": "6c94fc9a",
   "metadata": {},
   "source": [
    "<font size=5 color=orange>\n",
    "    RUN_quantify_4x_artery_data <br>\n",
    "</font>\n",
    "<font size=2 color=orange>\n",
    "    <br>\n",
    "    author: Jay Pi; jzp6160@psu.edu <br>\n",
    "    created: July 24, 2023<br>\n",
    "    <br>\n",
    "    This program processes images and does quantification of 4x artery data <br>\n",
    "    ver 0.1 -- 1st version <br>\n",
    "</font>"
   ]
  },
  {
   "cell_type": "markdown",
   "id": "e0af1866",
   "metadata": {},
   "source": [
    "<font size=3 color=orange>\n",
    "    Instructions: <br>\n",
    "    1) Edit sess_  <br>\n",
    "    2) On the pulldown menu, Click 'Cell' -> 'Run All'\n",
    "</font>"
   ]
  },
  {
   "cell_type": "code",
   "execution_count": 1,
   "id": "6fff9887",
   "metadata": {
    "scrolled": true
   },
   "outputs": [],
   "source": [
    "### Settings -- you need to specify the data folder\n",
    "sess_ ='/mnt/d/lab_members/JP/AT4x/data/CS0092L/'\n",
    "\n",
    "\n",
    "# from importlib import reload\n",
    "# import ArteryTracing4x\n",
    "# reload(ArteryTracing4x)\n",
    "from ArteryTracing4x import ArteryTracing4x\n",
    "at = ArteryTracing4x(sess_)\n"
   ]
  },
  {
   "cell_type": "code",
   "execution_count": 2,
   "id": "a2daa2c0",
   "metadata": {
    "scrolled": true
   },
   "outputs": [
    {
     "name": "stdout",
     "output_type": "stream",
     "text": [
      "/mnt/d/lab_members/JP/AT4x/data/CS0092L/stitched_00/ [2.  1.8 1.8] [20 20 20]\n",
      "CPU times: user 41min 2s, sys: 6min 29s, total: 47min 32s\n",
      "Wall time: 19min 33s\n"
     ]
    }
   ],
   "source": [
    "%%time\n",
    "at._00_registration()"
   ]
  },
  {
   "cell_type": "code",
   "execution_count": 3,
   "id": "9578c938",
   "metadata": {},
   "outputs": [
    {
     "name": "stdout",
     "output_type": "stream",
     "text": [
      "/mnt/d/lab_members/JP/AT4x/data/CS0092L/binary/ch00/ [2.  1.8 1.8] [20 20 20]\n",
      "CPU times: user 9min 30s, sys: 15min 33s, total: 25min 3s\n",
      "Wall time: 21min 52s\n"
     ]
    }
   ],
   "source": [
    "%%time\n",
    "at._01_binarization()"
   ]
  },
  {
   "cell_type": "code",
   "execution_count": 4,
   "id": "b993027f",
   "metadata": {},
   "outputs": [
    {
     "name": "stdout",
     "output_type": "stream",
     "text": [
      "CPU times: user 11.6 s, sys: 2.85 s, total: 14.5 s\n",
      "Wall time: 16.6 s\n"
     ]
    }
   ],
   "source": [
    "%%time\n",
    "at._02_skeletonization()"
   ]
  },
  {
   "cell_type": "code",
   "execution_count": 5,
   "id": "90f4b424",
   "metadata": {
    "scrolled": true
   },
   "outputs": [
    {
     "name": "stderr",
     "output_type": "stream",
     "text": [
      "100%|██████████| 3983/3983 [04:35<00:00, 14.47it/s]\n",
      "100%|██████████| 670/670 [01:50<00:00,  6.06it/s]\n"
     ]
    },
    {
     "name": "stdout",
     "output_type": "stream",
     "text": [
      "CPU times: user 5min 1s, sys: 1min 35s, total: 6min 37s\n",
      "Wall time: 6min 36s\n"
     ]
    }
   ],
   "source": [
    "%%time\n",
    "at._03_generate_output_df()"
   ]
  },
  {
   "cell_type": "code",
   "execution_count": null,
   "id": "3a00e189",
   "metadata": {},
   "outputs": [],
   "source": []
  },
  {
   "cell_type": "markdown",
   "id": "3c5b94c7",
   "metadata": {},
   "source": [
    "<font size=3 color=orange>\n",
    "    Appendix\n",
    "</font>"
   ]
  },
  {
   "cell_type": "code",
   "execution_count": null,
   "id": "15365252",
   "metadata": {},
   "outputs": [],
   "source": []
  }
 ],
 "metadata": {
  "kernelspec": {
   "display_name": "Python 3",
   "language": "python",
   "name": "python3"
  },
  "language_info": {
   "codemirror_mode": {
    "name": "ipython",
    "version": 3
   },
   "file_extension": ".py",
   "mimetype": "text/x-python",
   "name": "python",
   "nbconvert_exporter": "python",
   "pygments_lexer": "ipython3",
   "version": "3.9.17"
  }
 },
 "nbformat": 4,
 "nbformat_minor": 5
}
